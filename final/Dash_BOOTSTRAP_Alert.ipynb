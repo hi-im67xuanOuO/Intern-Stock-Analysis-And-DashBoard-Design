{
 "cells": [
  {
   "cell_type": "markdown",
   "metadata": {},
   "source": []
  },
  {
   "cell_type": "code",
   "execution_count": 12,
   "metadata": {
    "ExecuteTime": {
     "end_time": "2020-07-31T14:01:08.602108Z",
     "start_time": "2020-07-31T14:01:03.903097Z"
    }
   },
   "outputs": [
    {
     "name": "stdout",
     "output_type": "stream",
     "text": [
      "Dash is running on http://0.0.0.0:8051/\n",
      "\n",
      "Dash is running on http://0.0.0.0:8051/\n",
      "\n",
      "Dash is running on http://0.0.0.0:8051/\n",
      "\n",
      "Dash is running on http://0.0.0.0:8051/\n",
      "\n",
      "Dash is running on http://0.0.0.0:8051/\n",
      "\n",
      " Warning: This is a development server. Do not use app.run_server\n",
      " Warning: This is a development server. Do not use app.run_server\n",
      " Warning: This is a development server. Do not use app.run_server\n",
      " Warning: This is a development server. Do not use app.run_server\n",
      " Warning: This is a development server. Do not use app.run_server\n",
      " in production, use a production WSGI server like gunicorn instead.\n",
      "\n",
      " in production, use a production WSGI server like gunicorn instead.\n",
      "\n",
      " in production, use a production WSGI server like gunicorn instead.\n",
      "\n",
      " in production, use a production WSGI server like gunicorn instead.\n",
      "\n",
      " in production, use a production WSGI server like gunicorn instead.\n",
      "\n",
      " * Serving Flask app \"__main__\" (lazy loading)\n",
      " * Environment: production\n",
      "   WARNING: This is a development server. Do not use it in a production deployment.\n",
      "   Use a production WSGI server instead.\n",
      " * Debug mode: off\n"
     ]
    },
    {
     "name": "stderr",
     "output_type": "stream",
     "text": [
      " * Running on http://0.0.0.0:8051/ (Press CTRL+C to quit)\n"
     ]
    }
   ],
   "source": [
    "import dash\n",
    "import dash_core_components as dcc\n",
    "import dash_html_components as html\n",
    "\n",
    "import dash_bootstrap_components as dbc\n",
    "app = dash.Dash(external_stylesheets=[dbc.themes.BOOTSTRAP])\n",
    "\n",
    "alerts = html.Div(\n",
    "    [\n",
    "        dbc.Alert(\"This is a primary alert\", color=\"primary\"),\n",
    "        dbc.Alert(\"This is a secondary alert\", color=\"secondary\"),\n",
    "        dbc.Alert(\"This is a success alert! Well done!\", color=\"success\"),\n",
    "        dbc.Alert(\"This is a warning alert... be careful...\", color=\"warning\"),\n",
    "        dbc.Alert(\"This is a danger alert. Scary!\", color=\"danger\"),\n",
    "        dbc.Alert(\"This is an info alert. Good to know!\", color=\"info\"),\n",
    "        dbc.Alert(\"This is a light alert\", color=\"light\"),\n",
    "        dbc.Alert(\"This is a dark alert\", color=\"dark\"),\n",
    "        \n",
    "        dbc.Alert(\n",
    "            [\n",
    "                \"This is a primary alert with an \",\n",
    "                html.A(\"example link\", href=\"#\", className=\"alert-link\"),\n",
    "            ],\n",
    "            color=\"primary\",\n",
    "        ),\n",
    "        dbc.Alert(\n",
    "            [\n",
    "                \"This is a danger alert with an \",\n",
    "                html.A(\"example link\", href=\"#\", className=\"alert-link\"),\n",
    "            ],\n",
    "            color=\"danger\",\n",
    "        ),\n",
    "    ]\n",
    ")\n",
    "\n",
    "app.layout = html.Div([\n",
    "    alerts\n",
    "])\n",
    "\n",
    "if __name__ == '__main__':\n",
    "    app.run_server(host='0.0.0.0', port=8051) ### "
   ]
  },
  {
   "cell_type": "code",
   "execution_count": 14,
   "metadata": {
    "ExecuteTime": {
     "end_time": "2020-07-31T14:04:03.995531Z",
     "start_time": "2020-07-31T14:02:01.826234Z"
    }
   },
   "outputs": [
    {
     "name": "stdout",
     "output_type": "stream",
     "text": [
      "Dash is running on http://0.0.0.0:8051/\n",
      "\n",
      "Dash is running on http://0.0.0.0:8051/\n",
      "\n",
      "Dash is running on http://0.0.0.0:8051/\n",
      "\n",
      "Dash is running on http://0.0.0.0:8051/\n",
      "\n",
      "Dash is running on http://0.0.0.0:8051/\n",
      "\n",
      " Warning: This is a development server. Do not use app.run_server\n",
      " Warning: This is a development server. Do not use app.run_server\n",
      " Warning: This is a development server. Do not use app.run_server\n",
      " Warning: This is a development server. Do not use app.run_server\n",
      " Warning: This is a development server. Do not use app.run_server\n",
      " in production, use a production WSGI server like gunicorn instead.\n",
      "\n",
      " in production, use a production WSGI server like gunicorn instead.\n",
      "\n",
      " in production, use a production WSGI server like gunicorn instead.\n",
      "\n",
      " in production, use a production WSGI server like gunicorn instead.\n",
      "\n",
      " in production, use a production WSGI server like gunicorn instead.\n",
      "\n",
      " * Serving Flask app \"__main__\" (lazy loading)\n",
      " * Environment: production\n",
      "   WARNING: This is a development server. Do not use it in a production deployment.\n",
      "   Use a production WSGI server instead.\n",
      " * Debug mode: off\n"
     ]
    },
    {
     "name": "stderr",
     "output_type": "stream",
     "text": [
      " * Running on http://0.0.0.0:8051/ (Press CTRL+C to quit)\n",
      "127.0.0.1 - - [31/Jul/2020 22:02:04] \"\u001b[37mGET / HTTP/1.1\u001b[0m\" 200 -\n",
      "127.0.0.1 - - [31/Jul/2020 22:02:05] \"\u001b[37mGET /_dash-layout HTTP/1.1\u001b[0m\" 200 -\n",
      "127.0.0.1 - - [31/Jul/2020 22:02:05] \"\u001b[37mGET /_dash-dependencies HTTP/1.1\u001b[0m\" 200 -\n",
      "127.0.0.1 - - [31/Jul/2020 22:02:05] \"\u001b[37mPOST /_dash-update-component HTTP/1.1\u001b[0m\" 200 -\n",
      "127.0.0.1 - - [31/Jul/2020 22:02:05] \"\u001b[37mPOST /_dash-update-component HTTP/1.1\u001b[0m\" 200 -\n",
      "127.0.0.1 - - [31/Jul/2020 22:02:07] \"\u001b[37mPOST /_dash-update-component HTTP/1.1\u001b[0m\" 200 -\n",
      "127.0.0.1 - - [31/Jul/2020 22:02:07] \"\u001b[37mPOST /_dash-update-component HTTP/1.1\u001b[0m\" 200 -\n",
      "127.0.0.1 - - [31/Jul/2020 22:02:08] \"\u001b[37mPOST /_dash-update-component HTTP/1.1\u001b[0m\" 200 -\n",
      "127.0.0.1 - - [31/Jul/2020 22:02:08] \"\u001b[37mPOST /_dash-update-component HTTP/1.1\u001b[0m\" 200 -\n",
      "127.0.0.1 - - [31/Jul/2020 22:02:09] \"\u001b[37mPOST /_dash-update-component HTTP/1.1\u001b[0m\" 200 -\n",
      "127.0.0.1 - - [31/Jul/2020 22:02:09] \"\u001b[37mPOST /_dash-update-component HTTP/1.1\u001b[0m\" 200 -\n",
      "127.0.0.1 - - [31/Jul/2020 22:02:12] \"\u001b[37mGET / HTTP/1.1\u001b[0m\" 200 -\n",
      "127.0.0.1 - - [31/Jul/2020 22:02:12] \"\u001b[37mGET /_dash-layout HTTP/1.1\u001b[0m\" 200 -\n",
      "127.0.0.1 - - [31/Jul/2020 22:02:12] \"\u001b[37mGET /_dash-dependencies HTTP/1.1\u001b[0m\" 200 -\n",
      "127.0.0.1 - - [31/Jul/2020 22:02:12] \"\u001b[37mGET /_favicon.ico?v=1.13.4 HTTP/1.1\u001b[0m\" 200 -\n",
      "127.0.0.1 - - [31/Jul/2020 22:02:12] \"\u001b[37mPOST /_dash-update-component HTTP/1.1\u001b[0m\" 200 -\n",
      "127.0.0.1 - - [31/Jul/2020 22:02:12] \"\u001b[37mPOST /_dash-update-component HTTP/1.1\u001b[0m\" 200 -\n"
     ]
    }
   ],
   "source": [
    "import dash\n",
    "import pandas as pd\n",
    "import dash_core_components as dcc   #引入dash核心元素\n",
    "import dash_html_components as html   #引入dash html元素\n",
    "import dash_bootstrap_components as dbc\n",
    "from dash.dependencies import Input, Output\n",
    "\n",
    "\n",
    "app.layout = html.Div([\n",
    "    html.Button(id='button',disabled=False),\n",
    "    # other element\n",
    "    html.Div(id='other-element'),\n",
    "    # trigger div\n",
    "    html.Div(id='trigger',children=0, style=dict(display='none'))\n",
    "])\n",
    "\n",
    "@app.callback(\n",
    "    Output('button','disabled'),\n",
    "    [Input('button','n_clicks'),\n",
    "     Input('trigger','children')])\n",
    "def trigger_function(n_clicks,trigger):\n",
    "    context = dash.callback_context.triggered[0]['prop_id'].split('.')[0]\n",
    "    context_value = dash.callback_context.triggered[0]['value']\n",
    "    \n",
    "    # if the button triggered the function\n",
    "    if context == 'button':\n",
    "        # if the function is triggered at app load, this will not disable the button\n",
    "        # but if the function is triggered by clicking the button, this disables the button as expected\n",
    "        if n_clicks > 0 :\n",
    "            return True\n",
    "        else:\n",
    "            return False\n",
    "    # if the element function completed and triggered the function\n",
    "    else:\n",
    "        # if the function is triggered at app load, this will not disable the button\n",
    "        # but if the function is triggered by the function finishing, this enables the button as expected\n",
    "        return False\n",
    "\n",
    "@app.callback(\n",
    "    [Output('other-element','children'),\n",
    "     Output('trigger','children')],\n",
    "    [Input('button','n_clicks')])\n",
    "def update_element(n_clicks):\n",
    "    # do something\n",
    "    return (\n",
    "        'my element value', \n",
    "        1 # update the trigger value\n",
    "    )\n",
    "\n",
    "if __name__ == '__main__':\n",
    "    app.run_server(host='0.0.0.0', port=8051) ### "
   ]
  },
  {
   "cell_type": "code",
   "execution_count": null,
   "metadata": {},
   "outputs": [],
   "source": []
  }
 ],
 "metadata": {
  "kernelspec": {
   "display_name": "Python 3",
   "language": "python",
   "name": "python3"
  },
  "language_info": {
   "codemirror_mode": {
    "name": "ipython",
    "version": 3
   },
   "file_extension": ".py",
   "mimetype": "text/x-python",
   "name": "python",
   "nbconvert_exporter": "python",
   "pygments_lexer": "ipython3",
   "version": "3.7.4"
  },
  "toc": {
   "base_numbering": 1,
   "nav_menu": {},
   "number_sections": true,
   "sideBar": true,
   "skip_h1_title": false,
   "title_cell": "Table of Contents",
   "title_sidebar": "Contents",
   "toc_cell": false,
   "toc_position": {},
   "toc_section_display": true,
   "toc_window_display": false
  }
 },
 "nbformat": 4,
 "nbformat_minor": 2
}
