{
 "cells": [
  {
   "cell_type": "markdown",
   "metadata": {},
   "source": [
    "# 策略指標試作"
   ]
  },
  {
   "cell_type": "code",
   "execution_count": 1,
   "metadata": {
    "ExecuteTime": {
     "end_time": "2020-08-25T07:29:50.308005Z",
     "start_time": "2020-08-25T07:29:49.489136Z"
    },
    "code_folding": []
   },
   "outputs": [],
   "source": [
    "import pandas as pd\n",
    "import numpy as np\n",
    "import warnings\n",
    "warnings.filterwarnings('ignore')\n",
    "\n",
    "df_big_72_08 = pd.read_csv(\"self_FC0372_08_big_new.csv\") # 大盤\n",
    "df_big_86_20 = pd.read_csv(\"self_FC0386_20_big_new.csv\") \n",
    "df_big_87_20 = pd.read_csv(\"self_FC0387_20_big_new.csv\") \n",
    "df_big_88_20 = pd.read_csv(\"self_FC0388_20_big_new.csv\") \n",
    "df_big_91_17 = pd.read_csv(\"self_FC0391_17_big_new.csv\") \n",
    "df_big_92_17 = pd.read_csv(\"self_FC0392_17_big_sold_and_buy_new.csv\") \n",
    "df_big_93_20 = pd.read_csv(\"self_FC0393_20_big_new.csv\") \n",
    "# df_big_94_08 = pd.read_csv(\"self_FC0394_08_big_new.csv\") \n",
    "# df_big_94_13 = pd.read_csv(\"self_FC0394_13_big_new.csv\") \n",
    "df_big_94_19 = pd.read_csv(\"self_FC0394_19_big_new.csv\")\n",
    "# df_big_95_08 = pd.read_csv(\"self_FC0395_08_big_new.csv\") \n",
    "# df_big_95_13 = pd.read_csv(\"self_FC0395_13_big_new.csv\") \n",
    "df_big_95_19 = pd.read_csv(\"self_FC0395_19_big_new.csv\")\n",
    "\n",
    "df_return_72_08 = pd.read_csv(\"self_FC0372_08_new.csv\") #組合8點\n",
    "df_return_86_20 = pd.read_csv(\"self_FC0386_20_new.csv\")\n",
    "df_return_87_20 = pd.read_csv(\"self_FC0387_20_new.csv\")\n",
    "df_return_88_20 = pd.read_csv(\"self_FC0388_20_new.csv\")\n",
    "df_return_91_17 = pd.read_csv(\"self_FC0391_17_new.csv\")\n",
    "df_return_92_17 = pd.read_csv(\"self_FC0392_17_sold_and_buy_new.csv\")\n",
    "df_return_93_20 = pd.read_csv(\"self_FC0393_20_new.csv\")\n",
    "# df_return_94_08 = pd.read_csv(\"self_FC0394_08_new.csv\")\n",
    "# df_return_94_13 = pd.read_csv(\"self_FC0394_13_new.csv\")\n",
    "df_return_94_19 = pd.read_csv(\"self_FC0394_19_new.csv\")\n",
    "# df_return_95_08 = pd.read_csv(\"self_FC0395_08_new.csv\")\n",
    "# df_return_95_13 = pd.read_csv(\"self_FC0395_13_new.csv\") #組合13點\n",
    "df_return_95_19 = pd.read_csv(\"self_FC0395_19_new.csv\")"
   ]
  },
  {
   "cell_type": "code",
   "execution_count": 2,
   "metadata": {
    "ExecuteTime": {
     "end_time": "2020-08-25T07:29:53.521124Z",
     "start_time": "2020-08-25T07:29:53.498225Z"
    }
   },
   "outputs": [],
   "source": [
    "dict_big_72_08 = df_big_72_08.to_dict('records')\n",
    "dict_big_86_20 = df_big_86_20.to_dict('records')\n",
    "dict_big_87_20 = df_big_87_20.to_dict('records')\n",
    "dict_big_88_20 = df_big_88_20.to_dict('records')\n",
    "dict_big_91_17 = df_big_91_17.to_dict('records')\n",
    "dict_big_92_17 = df_big_92_17.to_dict('records')\n",
    "dict_big_93_20 = df_big_93_20.to_dict('records')\n",
    "# dict_big_94_08 = df_big_94_08.to_dict('records')\n",
    "# dict_big_94_13 = df_big_94_13.to_dict('records')\n",
    "dict_big_94_19 = df_big_94_19.to_dict('records')\n",
    "# dict_big_95_08 = df_big_95_08.to_dict('records')\n",
    "# dict_big_95_13 = df_big_95_13.to_dict('records')\n",
    "dict_big_95_19 = df_big_95_19.to_dict('records')"
   ]
  },
  {
   "cell_type": "code",
   "execution_count": 3,
   "metadata": {
    "ExecuteTime": {
     "end_time": "2020-08-25T07:29:53.580053Z",
     "start_time": "2020-08-25T07:29:53.574517Z"
    },
    "code_folding": [
     2
    ]
   },
   "outputs": [],
   "source": [
    "# 巢狀展開\n",
    "import ast #  str to dict\n",
    "def open_df_to_dict(df):\n",
    "    dict_ = df.to_dict('records')\n",
    "    for i in range(len(dict_)):\n",
    "        dict_[i]['data'] = ast.literal_eval(dict_[i]['data'])# 巢狀展開\n",
    "    return dict_"
   ]
  },
  {
   "cell_type": "code",
   "execution_count": 4,
   "metadata": {
    "ExecuteTime": {
     "end_time": "2020-08-25T07:29:54.040133Z",
     "start_time": "2020-08-25T07:29:53.654981Z"
    }
   },
   "outputs": [],
   "source": [
    "dict_return_72_08 = open_df_to_dict(df_return_72_08)\n",
    "dict_return_86_20 = open_df_to_dict(df_return_86_20)\n",
    "dict_return_87_20 = open_df_to_dict(df_return_87_20)\n",
    "dict_return_88_20 = open_df_to_dict(df_return_88_20)\n",
    "dict_return_91_17 = open_df_to_dict(df_return_91_17)\n",
    "dict_return_92_17 = open_df_to_dict(df_return_92_17)\n",
    "dict_return_93_20 = open_df_to_dict(df_return_93_20)\n",
    "# dict_return_94_08 = open_df_to_dict(df_return_94_08)\n",
    "# dict_return_94_13 = open_df_to_dict(df_return_94_13)\n",
    "dict_return_94_19 = open_df_to_dict(df_return_94_19)\n",
    "# dict_return_95_08 = open_df_to_dict(df_return_95_08)\n",
    "# dict_return_95_13 = open_df_to_dict(df_return_95_13)\n",
    "dict_return_95_19 = open_df_to_dict(df_return_95_19)"
   ]
  },
  {
   "cell_type": "code",
   "execution_count": 5,
   "metadata": {
    "ExecuteTime": {
     "end_time": "2020-08-25T07:29:54.051187Z",
     "start_time": "2020-08-25T07:29:54.043259Z"
    },
    "code_folding": [
     1
    ]
   },
   "outputs": [],
   "source": [
    "# 欄位統一名稱（change_rate_new = all_return）\n",
    "def same_col(dict_):\n",
    "    for i in range(len(dict_)):\n",
    "        dict_[i].update({\"all_return\": dict_[i]['change_rate_new']})\n",
    "    return dict_"
   ]
  },
  {
   "cell_type": "code",
   "execution_count": 6,
   "metadata": {
    "ExecuteTime": {
     "end_time": "2020-08-25T07:29:54.065789Z",
     "start_time": "2020-08-25T07:29:54.054502Z"
    }
   },
   "outputs": [],
   "source": [
    "dict_big_72_08 = same_col(dict_big_72_08)\n",
    "dict_big_86_20 = same_col(dict_big_86_20)\n",
    "dict_big_87_20 = same_col(dict_big_87_20)\n",
    "dict_big_88_20 = same_col(dict_big_88_20)\n",
    "dict_big_91_17 = same_col(dict_big_91_17)\n",
    "dict_big_92_17 = same_col(dict_big_92_17)\n",
    "dict_big_93_20 = same_col(dict_big_93_20)\n",
    "# dict_big_94_08 = same_col(dict_big_94_08)\n",
    "# dict_big_94_13 = same_col(dict_big_94_13)\n",
    "dict_big_94_19 = same_col(dict_big_94_19)\n",
    "# dict_big_95_08 = same_col(dict_big_95_08)\n",
    "# dict_big_95_13 = same_col(dict_big_95_13)\n",
    "dict_big_95_19 = same_col(dict_big_95_19)"
   ]
  },
  {
   "cell_type": "markdown",
   "metadata": {},
   "source": [
    "# 選入股票之累計報酬率"
   ]
  },
  {
   "cell_type": "code",
   "execution_count": 7,
   "metadata": {
    "ExecuteTime": {
     "end_time": "2020-08-25T07:29:54.100357Z",
     "start_time": "2020-08-25T07:29:54.079321Z"
    },
    "code_folding": [
     2
    ]
   },
   "outputs": [],
   "source": [
    "# 股票累計報酬率計算 # 單位不是百分比\n",
    "\n",
    "def cumulative_return_list(mylist):\n",
    "    \n",
    "    c_return_list = []\n",
    "    for i in range(len(mylist)):\n",
    "        if i == 0:\n",
    "            c_return = mylist[i]\n",
    "            c_return_list.append(c_return)\n",
    "        else:\n",
    "            day_before_c_return = c_return_list[i-1]\n",
    "            today_c_return = mylist[i]\n",
    "        \n",
    "            c_return = ( (day_before_c_return+1) * (today_c_return+1) ) - 1\n",
    "            # 公式：Rt = (1+R1)(1+R2)(1+R3)(1+R4)(1+R5)...-1\n",
    "            c_return_list.append(c_return)\n",
    "            \n",
    "    return c_return_list[-1]"
   ]
  },
  {
   "cell_type": "markdown",
   "metadata": {},
   "source": [
    "# （連續）股票被選進來的次數（交易日期/入選價）"
   ]
  },
  {
   "cell_type": "code",
   "execution_count": 8,
   "metadata": {
    "ExecuteTime": {
     "end_time": "2020-08-25T07:29:54.132941Z",
     "start_time": "2020-08-25T07:29:54.105734Z"
    },
    "code_folding": [
     1
    ]
   },
   "outputs": [],
   "source": [
    "import datetime\n",
    "def stock_choose_info_continuous(myDict_unique):\n",
    "    \n",
    "    # 1. 依照姓名尋找\n",
    "\n",
    "    name_list = []\n",
    "    for n in range(len(myDict_unique)):\n",
    "        for nn in range(len(myDict_unique[n]['data'])): \n",
    "            for nnn in range(len(myDict_unique[n]['data'][nn]['symbols'])):# 抓出對應股票代號\n",
    "                name = myDict_unique[n]['data'][nn]['symbols'][nnn]['name']\n",
    "                name_list.append(name)\n",
    "    # 2. 計數\n",
    "\n",
    "    from collections import Counter\n",
    "    result = dict(Counter(name_list))\n",
    "\n",
    "    # 3. 依照姓名尋找 建dict（all_result）\n",
    "\n",
    "    all_result = {}\n",
    "    for name in result:\n",
    "        all_result[name]={\"count\": result[name]}\n",
    "        for n in range(len(myDict_unique)):\n",
    "            for nn in range(len(myDict_unique[n]['data'])): \n",
    "                for nnn in range(len(myDict_unique[n]['data'][nn]['symbols'])):# 抓出對應股票代號\n",
    "                    if myDict_unique[n]['data'][nn]['symbols'][nnn]['name']==name:\n",
    "                        all_result[name].update({myDict_unique[n]['price_date']:{}}) \n",
    "                        if 'open' in myDict_unique[n]['data'][nn]['symbols'][nnn].keys():\n",
    "                            all_result[name][myDict_unique[n]['price_date']].update({'open': myDict_unique[n]['data'][nn]['symbols'][nnn]['open'],\n",
    "                                                                                     'close': myDict_unique[n]['data'][nn]['symbols'][nnn]['close'],\n",
    "                                                                                     'change_rate': myDict_unique[n]['data'][nn]['symbols'][nnn]['change_rate'],\n",
    "                                                                                     'change_rate_new': myDict_unique[n]['data'][nn]['symbols'][nnn]['change_rate_new']})\n",
    "    \n",
    "    key_list = list(all_result.keys()) #把所有股票名稱key轉成list\n",
    "    today_str = myDict_unique[-1]['price_date'] # 今天日期 ########\n",
    "    \n",
    "    for i in range(len(key_list)):\n",
    "        key_in_key_list = list(all_result[key_list[i]].keys()) # 欄位包含：count＋所有日期\n",
    "        #print(key_in_key_list)\n",
    "            \n",
    "        new = today_str\n",
    "        today = datetime.datetime.strptime(today_str, \"%Y-%m-%d\") # 今天日期\n",
    "\n",
    "        j = len(key_in_key_list)-1\n",
    "        last = []\n",
    "        continue_time = 0\n",
    "        while j>0:\n",
    "            if new == key_in_key_list[j]: #最後一天是今天，開始往前比對\n",
    "                current = datetime.datetime.strptime(key_in_key_list[j], \"%Y-%m-%d\")\n",
    "                new = (current - datetime.timedelta(days=1)).strftime(\"%Y-%m-%d\")\n",
    "                last.append(current)\n",
    "                continue_time += 1\n",
    "            j-=1\n",
    "            #print(last)\n",
    "            \n",
    "        \n",
    "        if last:\n",
    "            last.sort()\n",
    "        \n",
    "            day_return_list = []\n",
    "            change_rate_return_list = []\n",
    "            for date in last:\n",
    "                date = date.strftime(\"%Y-%m-%d\")\n",
    "                all_return = (all_result[key_list[i]][date]['close']-all_result[key_list[i]][date]['open'])/(all_result[key_list[i]][date]['open'])\n",
    "                day_return_list.append(all_return) # 收盤-開盤價\n",
    "                \n",
    "                change_rate_return = all_result[key_list[i]][date]['change_rate_new']\n",
    "                change_rate_return_list.append(change_rate_return)\n",
    "                       \n",
    "            c_return = cumulative_return_list(day_return_list)\n",
    "            c_return2 = cumulative_return_list(change_rate_return_list) # change_rate計算（收-收）\n",
    "\n",
    "            \n",
    "            all_result[key_list[i]].update({\"first_choose_continue\": last})\n",
    "            all_result[key_list[i]].update({\"continue_time\": continue_time})\n",
    "            all_result[key_list[i]][date].update({\"continue_c_return\": c_return})\n",
    "            all_result[key_list[i]][date].update({\"continue_c_return2\": c_return2})\n",
    "\n",
    "    return all_result       "
   ]
  },
  {
   "cell_type": "markdown",
   "metadata": {},
   "source": [
    "# 當日組合之報酬率"
   ]
  },
  {
   "cell_type": "code",
   "execution_count": 9,
   "metadata": {
    "ExecuteTime": {
     "end_time": "2020-08-25T07:29:54.188846Z",
     "start_time": "2020-08-25T07:29:54.179786Z"
    },
    "code_folding": [
     2
    ]
   },
   "outputs": [],
   "source": [
    "# 股票組合之報酬率\n",
    "\n",
    "def daily_return_per_portfolio_today(myDict): #原本名字沒有today\n",
    "    \n",
    "    for i in range(len(myDict)):\n",
    "        myDict[i]['all_return'] = 0\n",
    "        num = 0 #股票種類個數\n",
    "        all_return = 0\n",
    "        \n",
    "        for j in range(len(myDict[i]['data'])):\n",
    "            for k in range(len(myDict[i]['data'][j]['symbols'])):\n",
    "            \n",
    "                if 'change_rate' in myDict[i]['data'][j]['symbols'][k]: # 看是否有報酬率的欄位，沒有就代表不是股票（指數）\n",
    "                    all_return += myDict[i]['data'][j]['symbols'][k]['change_rate_today']\n",
    "                    num+=1\n",
    "            \n",
    "            if num != 0: # 如果該組合內有股票才計算報酬（可能都是指數）\n",
    "                myDict[i]['all_return'] = all_return/num # 該股票組合之報酬率\n",
    "    \n",
    "    return myDict"
   ]
  },
  {
   "cell_type": "markdown",
   "metadata": {},
   "source": [
    "# 累計報酬率"
   ]
  },
  {
   "cell_type": "code",
   "execution_count": 10,
   "metadata": {
    "ExecuteTime": {
     "end_time": "2020-08-25T07:29:54.315184Z",
     "start_time": "2020-08-25T07:29:54.308529Z"
    },
    "code_folding": [
     2
    ]
   },
   "outputs": [],
   "source": [
    "# 股票累計報酬率計算\n",
    "\n",
    "def cumulative_return(myDict):\n",
    "    \n",
    "    for i in range(len(myDict)):\n",
    "        if i == 0:\n",
    "            myDict[i]['c_return'] = myDict[i]['all_return']\n",
    "        else:\n",
    "            day_before_c_return = myDict[i-1]['c_return']\n",
    "            today_c_return = myDict[i]['all_return']\n",
    "        \n",
    "            myDict[i]['c_return'] = ( (day_before_c_return+1) * (today_c_return+1) ) - 1\n",
    "            # 公式：Rt = (1+R1)(1+R2)(1+R3)(1+R4)(1+R5)...-1\n",
    "            \n",
    "    return myDict"
   ]
  },
  {
   "cell_type": "markdown",
   "metadata": {},
   "source": [
    "# 最大獲利率"
   ]
  },
  {
   "cell_type": "markdown",
   "metadata": {},
   "source": [
    "交易分析裡，每筆交易報酬率>0(賺錢)的交易中，報酬率最大(賺最多)就是「最大獲利率%」"
   ]
  },
  {
   "cell_type": "code",
   "execution_count": 11,
   "metadata": {
    "ExecuteTime": {
     "end_time": "2020-08-25T07:29:54.424585Z",
     "start_time": "2020-08-25T07:29:54.418620Z"
    },
    "code_folding": [
     2
    ]
   },
   "outputs": [],
   "source": [
    "# 最大值獲利率\n",
    "\n",
    "def max_all_return(myDict):\n",
    "    \n",
    "    current_all_return_max = 0\n",
    "\n",
    "    for i in range(len(myDict)):\n",
    "        if 'all_return' in myDict[i].keys():\n",
    "            \n",
    "            if myDict[i]['all_return'] >= current_all_return_max: #區間最大\n",
    "                current_all_return_max = myDict[i]['all_return']\n",
    "    \n",
    "    if current_all_return_max >=0: # 大於0才需回傳\n",
    "        return current_all_return_max\n",
    "    else:\n",
    "        return None"
   ]
  },
  {
   "cell_type": "markdown",
   "metadata": {},
   "source": [
    "# 最大虧損率"
   ]
  },
  {
   "cell_type": "markdown",
   "metadata": {},
   "source": [
    "交易分析裡，每筆交易報酬率<0 (賠錢)的交易中，報酬率最小(賠最多)就是「最大虧損率%」"
   ]
  },
  {
   "cell_type": "code",
   "execution_count": 12,
   "metadata": {
    "ExecuteTime": {
     "end_time": "2020-08-25T07:29:54.540483Z",
     "start_time": "2020-08-25T07:29:54.529725Z"
    },
    "code_folding": [
     2
    ]
   },
   "outputs": [],
   "source": [
    "# 最大虧損率\n",
    "\n",
    "def min_all_return(myDict):\n",
    "    \n",
    "    current_all_return_min = 0\n",
    "\n",
    "    for i in range(len(myDict)):\n",
    "        if 'all_return' in myDict[i].keys():\n",
    "            \n",
    "            if myDict[i]['all_return'] <= current_all_return_min: #區間最小\n",
    "                current_all_return_min = myDict[i]['all_return']\n",
    "    \n",
    "    if current_all_return_min <=0: # 大於0才需回傳\n",
    "        return current_all_return_min\n",
    "    else:\n",
    "        return None"
   ]
  },
  {
   "cell_type": "markdown",
   "metadata": {},
   "source": [
    "# 平均獲利率"
   ]
  },
  {
   "cell_type": "markdown",
   "metadata": {},
   "source": [
    "整體統計中，總交易報酬率的平均值  \n",
    "公式：總報酬率相加 / 總交易次數"
   ]
  },
  {
   "cell_type": "code",
   "execution_count": 13,
   "metadata": {
    "ExecuteTime": {
     "end_time": "2020-08-25T07:29:54.647773Z",
     "start_time": "2020-08-25T07:29:54.642227Z"
    },
    "code_folding": [
     2
    ]
   },
   "outputs": [],
   "source": [
    "# 平均獲利＝總獲利／總交易筆數\n",
    "\n",
    "def average_return(myDict):\n",
    "    \n",
    "    total = 0\n",
    "    average_return = 0\n",
    "    time = 0\n",
    "\n",
    "    for i in range(len(myDict)):\n",
    "        if 'all_return' in myDict[i].keys():\n",
    "            total += myDict[i]['all_return']\n",
    "            time+=1\n",
    "    \n",
    "    average_return = total/time\n",
    "    \n",
    "    return average_return"
   ]
  },
  {
   "cell_type": "markdown",
   "metadata": {},
   "source": [
    "# 獲利次數 / 勝率"
   ]
  },
  {
   "cell_type": "markdown",
   "metadata": {},
   "source": [
    "* 獲利次數：「總交易次數」內賺錢(報酬率>0)的交易次數。  \n",
    "* 勝率：「獲利次數」佔「總交易次數」的百分比"
   ]
  },
  {
   "cell_type": "code",
   "execution_count": 14,
   "metadata": {
    "ExecuteTime": {
     "end_time": "2020-08-25T07:29:54.759821Z",
     "start_time": "2020-08-25T07:29:54.754012Z"
    },
    "code_folding": [
     2
    ]
   },
   "outputs": [],
   "source": [
    "# return >0 次數\n",
    "\n",
    "def wins_time(myDict):\n",
    "    \n",
    "    all_time = 0\n",
    "    time = 0\n",
    "\n",
    "    for i in range(len(myDict)):\n",
    "        if 'all_return' in myDict[i].keys():\n",
    "            all_time+=1\n",
    "            if myDict[i]['all_return'] > 0:\n",
    "                time+=1\n",
    "    \n",
    "    win_rate = time/all_time\n",
    "    \n",
    "    return win_rate"
   ]
  },
  {
   "cell_type": "markdown",
   "metadata": {},
   "source": [
    "# 虧損次數"
   ]
  },
  {
   "cell_type": "markdown",
   "metadata": {},
   "source": [
    "「總交易次數」內賠錢(報酬率<0)的交易次數"
   ]
  },
  {
   "cell_type": "code",
   "execution_count": 15,
   "metadata": {
    "ExecuteTime": {
     "end_time": "2020-08-25T07:29:54.876096Z",
     "start_time": "2020-08-25T07:29:54.869993Z"
    },
    "code_folding": [
     2
    ]
   },
   "outputs": [],
   "source": [
    "# return <0 次數\n",
    "\n",
    "def lose_time(myDict):\n",
    "    \n",
    "    time = 0\n",
    "\n",
    "    for i in range(len(myDict)):\n",
    "        if 'all_return' in myDict[i].keys():\n",
    "            if myDict[i]['all_return'] < 0:\n",
    "                time+=1\n",
    "    \n",
    "    return time"
   ]
  },
  {
   "cell_type": "markdown",
   "metadata": {},
   "source": [
    "# 平均年化報酬率"
   ]
  },
  {
   "cell_type": "markdown",
   "metadata": {},
   "source": [
    "公式：（1+累計報酬率）^ （1/年數）- 1"
   ]
  },
  {
   "cell_type": "markdown",
   "metadata": {},
   "source": [
    "https://sites.google.com/site/gerenzixunpingtai/cai-wu-zhi-shi?tmpl=%2Fsystem%2Fapp%2Ftemplates%2Fprint%2F&showPrintDialog=1"
   ]
  },
  {
   "cell_type": "code",
   "execution_count": 16,
   "metadata": {
    "ExecuteTime": {
     "end_time": "2020-08-25T07:29:55.010737Z",
     "start_time": "2020-08-25T07:29:55.004748Z"
    },
    "code_folding": [
     2
    ]
   },
   "outputs": [],
   "source": [
    "import math\n",
    "\n",
    "def internal_rate_of_return(myDict): \n",
    "    \n",
    "    year = 60/252 # 換算成年\n",
    "    IRR = 0\n",
    "    \n",
    "    if 'c_return' in myDict[-1].keys():\n",
    "        \n",
    "        cumulative_return = myDict[-1]['c_return']     \n",
    "        IRR = ( math.pow( ( 1 + cumulative_return ), (1/year) ) ) - 1\n",
    "    \n",
    "    return IRR"
   ]
  },
  {
   "cell_type": "markdown",
   "metadata": {},
   "source": [
    "# 區間獲利率"
   ]
  },
  {
   "cell_type": "markdown",
   "metadata": {},
   "source": [
    "區間獲利率的計算方式與連續獲利率的差異是連續獲利率要求總報酬率必須持續向上，可是區間獲利率允許總報酬率暫時的下滑，只要總報酬率沒有跌破前低值的話都算是獲利中。"
   ]
  },
  {
   "cell_type": "code",
   "execution_count": 17,
   "metadata": {
    "ExecuteTime": {
     "end_time": "2020-08-25T07:29:55.127568Z",
     "start_time": "2020-08-25T07:29:55.116428Z"
    },
    "code_folding": [
     2
    ]
   },
   "outputs": [],
   "source": [
    "# 區間獲利率算法 demo\n",
    "\n",
    "def part_grow(myDict): \n",
    "    \n",
    "    current = [myDict[0]['c_return']] # 目前最高\n",
    "    min = myDict[0]['c_return'] # 目前最低\n",
    "    current_total = 0 # 區間報酬率\n",
    "    total = []\n",
    "\n",
    "    for i in range(len(myDict)):\n",
    "        \n",
    "        if myDict[i]['c_return'] >= min: # 如果沒有突破最低\n",
    "        \n",
    "            if i+1 <= len(myDict)-1: # 如果有後者\n",
    "                    \n",
    "                if myDict[i]['c_return'] >= current[-1]: # 該值也大於目前最大值\n",
    "                    current.append(myDict[i]['c_return']) # 該值變成目前最大值\n",
    "                    \n",
    "                    if myDict[i+1]['c_return']<myDict[i]['c_return']:\n",
    "                        current_total = current[-1] - min # 最大區間獲利率結算\n",
    "                        #print(current_total,'=',current[-1],'-',min )\n",
    "                        #print(\"current: \", current[-1])\n",
    "                        #print(\"min: \", min)\n",
    "                        total.append(current_total)\n",
    "                        \n",
    "                        min = current[-1]\n",
    "                                \n",
    "            else: # 如果沒有後者了\n",
    "                \n",
    "                if myDict[i]['c_return'] >= current[-1]: # 該值又大於目前最大值\n",
    "                    current.append(myDict[i]['c_return']) # 該值變成目前最大值\n",
    "                \n",
    "                current_total = current[-1] - min # 最大區間獲利率結算\n",
    "                #print(current_total,'=',current[-1],'-',min )\n",
    "                #print(\"current: \", current[-1])\n",
    "                #print(\"min: \", min)\n",
    "                total.append(current_total)\n",
    "        \n",
    "        else: # 如果跌破最低了\n",
    "            min = myDict[i]['c_return'] # 把最低值換成目前的值\n",
    "\n",
    "            #print(\"current: \", current[-1])\n",
    "            #print(\"min: \", min, '\\n')\n",
    "            \n",
    "    #print(total)\n",
    "    ans = total[0]\n",
    "    for i in total:\n",
    "        if i>ans:\n",
    "            ans = i\n",
    "    return ans"
   ]
  },
  {
   "cell_type": "markdown",
   "metadata": {},
   "source": [
    "# 區間虧損率"
   ]
  },
  {
   "cell_type": "markdown",
   "metadata": {},
   "source": [
    "區間虧損率的計算方式與連續虧損率的差異是連續虧損率要求總報酬率必須持續向下，可是區間虧損率允許總報酬率暫時的上升，只要總報酬率沒有突破前高值的話都算是虧損中。"
   ]
  },
  {
   "cell_type": "code",
   "execution_count": 18,
   "metadata": {
    "ExecuteTime": {
     "end_time": "2020-08-25T07:29:55.252931Z",
     "start_time": "2020-08-25T07:29:55.239058Z"
    },
    "code_folding": [
     2
    ]
   },
   "outputs": [],
   "source": [
    "# 區間虧損率算法 demo\n",
    "\n",
    "def part_down(myDict): \n",
    "    \n",
    "    current = [myDict[0]['c_return']] # 目前最高\n",
    "    min = myDict[0]['c_return'] # 目前最低\n",
    "    current_total = 0 # 區間報酬率\n",
    "    total = []\n",
    "\n",
    "    for i in range(len(myDict)):\n",
    "        \n",
    "        if myDict[i]['c_return'] >= min: # 如果沒有突破最低\n",
    "        \n",
    "            if i+1 <= len(myDict)-1: # 如果有後者\n",
    "                    \n",
    "                if myDict[i]['c_return'] >= current[-1]: # 該值也大於目前最大值\n",
    "                    current.append(myDict[i]['c_return']) # 該值變成目前最大值\n",
    "                    \n",
    "                    if myDict[i+1]['c_return']<myDict[i]['c_return']:\n",
    "                        current_total = current[0] - min # 最大區間獲利率結算\n",
    "                        #print(current_total,'=',current[0],'-',min )\n",
    "                        #print(\"current: \", current[-1])\n",
    "                        #print(\"min: \", min)\n",
    "                        total.append(current_total)\n",
    "                        \n",
    "                        min = current[-1]\n",
    "                        current = [current[-1]] # 重置最大值list\n",
    "                                \n",
    "            else: # 如果沒有後者了\n",
    "                \n",
    "                if myDict[i]['c_return'] >= current[-1]: # 該值又大於目前最大值\n",
    "                    current.append(myDict[i]['c_return']) # 該值變成目前最大值\n",
    "                \n",
    "                current_total = current[0] - min # 最大區間獲利率結算\n",
    "                #print(current_total,'=',current[0],'-',min )\n",
    "                #print(\"current: \", current[-1])\n",
    "                #print(\"min: \", min)\n",
    "                total.append(current_total)\n",
    "        \n",
    "        else: # 如果跌破最低了\n",
    "            min = myDict[i]['c_return'] # 把最低值換成目前的值\n",
    "\n",
    "            #print(\"current: \", current[-1])\n",
    "            #print(\"min: \", min, '\\n')\n",
    "            \n",
    "    ans = total[0]\n",
    "    for i in total:\n",
    "        if i>ans:\n",
    "            ans = i\n",
    "    return ans"
   ]
  },
  {
   "cell_type": "markdown",
   "metadata": {},
   "source": [
    "# 波動度＆夏普值"
   ]
  },
  {
   "cell_type": "markdown",
   "metadata": {},
   "source": [
    "https://cashflowrich.blogspot.com/2017/07/historical-volatilityhv.html  \n",
    "每日報酬計算標準差"
   ]
  },
  {
   "cell_type": "code",
   "execution_count": 19,
   "metadata": {
    "ExecuteTime": {
     "end_time": "2020-08-25T07:29:55.375544Z",
     "start_time": "2020-08-25T07:29:55.363458Z"
    },
    "code_folding": [
     0
    ]
   },
   "outputs": [],
   "source": [
    "def volatility_and_sharpe_ratio(df):\n",
    "    \n",
    "    ## 幾日報酬率標準差\n",
    "    df['10_days_std'] = df['all_return'].rolling(10).std()\n",
    "    ## 幾日報酬率平均\n",
    "    df['10_days_mean'] = df['all_return'].rolling(10).mean()\n",
    "\n",
    "    SQRT252 = 252**0.5\n",
    "    # 60日波動度\n",
    "    days10_std_years = []\n",
    "\n",
    "    for i in range(len(df['10_days_std'])):\n",
    "        if pd.isnull(df['10_days_std'][i]) is False:\n",
    "            days10_std_years.append(df['10_days_std'][i]*SQRT252)\n",
    "        if pd.isnull(df['10_days_std'][i]) is True:\n",
    "            days10_std_years.append(None)\n",
    "\n",
    "    df['10_days_std_year'] = days10_std_years # 60日年化標準差\n",
    "    \n",
    "    # 60日波動度計算夏普值\n",
    "    sharp_ratio_10 = []\n",
    "    SQRT252 = 252**0.5\n",
    "\n",
    "    for i in range(len(df['10_days_std'])):\n",
    "        if pd.isnull(df['10_days_std'][i]) is False:\n",
    "            ratio10 = (df['10_days_mean'][i]/df['10_days_std'][i]) * SQRT252\n",
    "            sharp_ratio_10.append(ratio10)\n",
    "        if pd.isnull(df['10_days_std'][i]) is True:\n",
    "            sharp_ratio_10.append(None)\n",
    "\n",
    "    df['10_days_sharp_ratio'] = sharp_ratio_10 # 60日夏普比率\n",
    "\n",
    "    return df"
   ]
  },
  {
   "cell_type": "raw",
   "metadata": {
    "ExecuteTime": {
     "end_time": "2020-08-24T06:34:29.198946Z",
     "start_time": "2020-08-24T06:34:29.008478Z"
    }
   },
   "source": [
    "df_return_72_08 = volatility_and_sharpe_ratio(df_return_72_08)\n",
    "df_return_86_20 = volatility_and_sharpe_ratio(df_return_86_20)\n",
    "df_return_87_20 = volatility_and_sharpe_ratio(df_return_87_20)\n",
    "df_return_88_20 = volatility_and_sharpe_ratio(df_return_88_20)\n",
    "df_return_91_17 = volatility_and_sharpe_ratio(df_return_91_17)\n",
    "df_return_92_17 = volatility_and_sharpe_ratio(df_return_92_17)\n",
    "df_return_93_20 = volatility_and_sharpe_ratio(df_return_93_20)\n",
    "df_return_94_08 = volatility_and_sharpe_ratio(df_return_94_08)\n",
    "df_return_94_13 = volatility_and_sharpe_ratio(df_return_94_13)\n",
    "df_return_95_08 = volatility_and_sharpe_ratio(df_return_95_08)\n",
    "df_return_95_13 = volatility_and_sharpe_ratio(df_return_95_13)\n",
    "\n",
    "df_big_72_08 = volatility_and_sharpe_ratio(df_big_72_08)\n",
    "df_big_86_20 = volatility_and_sharpe_ratio(df_big_86_20)\n",
    "df_big_87_20 = volatility_and_sharpe_ratio(df_big_87_20)\n",
    "df_big_88_20 = volatility_and_sharpe_ratio(df_big_88_20)\n",
    "df_big_91_17 = volatility_and_sharpe_ratio(df_big_91_17)\n",
    "df_big_92_17 = volatility_and_sharpe_ratio(df_big_92_17)\n",
    "df_big_93_20 = volatility_and_sharpe_ratio(df_big_93_20)\n",
    "df_big_94_08 = volatility_and_sharpe_ratio(df_big_94_08)\n",
    "df_big_94_13 = volatility_and_sharpe_ratio(df_big_94_13)\n",
    "df_big_95_08 = volatility_and_sharpe_ratio(df_big_95_08)\n",
    "df_big_95_13 = volatility_and_sharpe_ratio(df_big_95_13)"
   ]
  },
  {
   "cell_type": "code",
   "execution_count": 20,
   "metadata": {
    "ExecuteTime": {
     "end_time": "2020-08-25T07:29:55.681743Z",
     "start_time": "2020-08-25T07:29:55.582831Z"
    }
   },
   "outputs": [],
   "source": [
    "sharp_df_72_08 = volatility_and_sharpe_ratio(df_return_72_08)\n",
    "sharp_df_86_20 = volatility_and_sharpe_ratio(df_return_86_20)\n",
    "sharp_df_87_20 = volatility_and_sharpe_ratio(df_return_87_20)\n",
    "sharp_df_88_20 = volatility_and_sharpe_ratio(df_return_88_20)\n",
    "sharp_df_91_17 = volatility_and_sharpe_ratio(df_return_91_17)\n",
    "sharp_df_92_17 = volatility_and_sharpe_ratio(df_return_92_17)\n",
    "sharp_df_93_20 = volatility_and_sharpe_ratio(df_return_93_20)\n",
    "# sharp_df_94_08 = volatility_and_sharpe_ratio(df_return_94_08)\n",
    "# sharp_df_94_13 = volatility_and_sharpe_ratio(df_return_94_13)\n",
    "sharp_df_94_19 = volatility_and_sharpe_ratio(df_return_94_19)\n",
    "# sharp_df_95_08 = volatility_and_sharpe_ratio(df_return_95_08)\n",
    "# sharp_df_95_13 = volatility_and_sharpe_ratio(df_return_95_13)\n",
    "sharp_df_95_19 = volatility_and_sharpe_ratio(df_return_95_19)\n",
    "\n",
    "sharp_big_df_72_08 = volatility_and_sharpe_ratio(df_big_72_08)\n",
    "sharp_big_df_86_20 = volatility_and_sharpe_ratio(df_big_86_20)\n",
    "sharp_big_df_87_20 = volatility_and_sharpe_ratio(df_big_87_20)\n",
    "sharp_big_df_88_20 = volatility_and_sharpe_ratio(df_big_88_20)\n",
    "sharp_big_df_91_17 = volatility_and_sharpe_ratio(df_big_91_17)\n",
    "sharp_big_df_92_17 = volatility_and_sharpe_ratio(df_big_92_17)\n",
    "sharp_big_df_93_20 = volatility_and_sharpe_ratio(df_big_93_20)\n",
    "# sharp_big_df_94_08 = volatility_and_sharpe_ratio(df_big_94_08)\n",
    "# sharp_big_df_94_13 = volatility_and_sharpe_ratio(df_big_94_13)\n",
    "sharp_big_df_94_19 = volatility_and_sharpe_ratio(df_big_94_19)\n",
    "# sharp_big_df_95_08 = volatility_and_sharpe_ratio(df_big_95_08)\n",
    "# sharp_big_df_95_13 = volatility_and_sharpe_ratio(df_big_95_13)\n",
    "sharp_big_df_95_19 = volatility_and_sharpe_ratio(df_big_95_19)"
   ]
  },
  {
   "cell_type": "markdown",
   "metadata": {},
   "source": [
    "# beta 自己算"
   ]
  },
  {
   "cell_type": "markdown",
   "metadata": {},
   "source": [
    "fugle資料庫beta係數 --> 一年期各檔個股的beta係數值  \n",
    "熱門取60天、股票有所更動 --> 不適用  \n",
    "重新以下列公式計算該策略目前beta係數為何：  \n",
    "https://blog.xuite.net/metafun/life/470466813-+%CE%B2%E5%80%BC%E8%88%87CAPM%28%E8%B3%87%E6%9C%AC%E8%B3%87%E7%94%A2%E8%A8%82%E5%83%B9%E6%A8%A1%E5%9E%8B%29+\n",
    "* **βi= Corr(Ri,Rm)．si/ sm**  \n",
    "    * Ri:表示個別資產(如:個股)報酬率。（累計報酬率）  \n",
    "    * Rm:表示市場(如:指數)報酬率。（累計報酬率）  \n",
    "    * si:表示個別資產(如:個股)報酬率的標準差。（60天）  \n",
    "    * sm:表示市場(如:指數)報酬率的標準差。（60天）\n",
    "--> 把熱門60天當成一檔股票計算。"
   ]
  },
  {
   "cell_type": "code",
   "execution_count": 21,
   "metadata": {
    "ExecuteTime": {
     "end_time": "2020-08-25T07:29:57.159786Z",
     "start_time": "2020-08-25T07:29:57.150365Z"
    }
   },
   "outputs": [],
   "source": [
    "def beta(mydf,df_big):\n",
    "    from numpy import cov\n",
    "    cor = cov(list(mydf['all_return']),list(df_big['all_return']))[0][1]\n",
    "    si = mydf['10_days_std'][len(mydf['10_days_std'])-1]\n",
    "    sm = df_big['10_days_std'][len(df_big['10_days_std'])-1]\n",
    "    beta = cor*(si/sm)\n",
    "    return beta"
   ]
  },
  {
   "cell_type": "markdown",
   "metadata": {},
   "source": [
    "# Dash"
   ]
  },
  {
   "cell_type": "markdown",
   "metadata": {},
   "source": [
    "## 累計報酬折線圖"
   ]
  },
  {
   "cell_type": "code",
   "execution_count": 31,
   "metadata": {
    "ExecuteTime": {
     "end_time": "2020-08-25T07:49:50.043141Z",
     "start_time": "2020-08-25T07:49:50.030066Z"
    },
    "code_folding": [
     0
    ]
   },
   "outputs": [],
   "source": [
    "def plot_return(df_return1,df_return2,title,x_col1,y_col1,x_col2,y_col2,yaxis_title):\n",
    "    \n",
    "    import plotly.graph_objs as go\n",
    "    fig = go.Figure()\n",
    "\n",
    "    fig.add_trace(go.Scatter(\n",
    "\n",
    "        x=df_return1[x_col1],\n",
    "        y=df_return1[y_col1],\n",
    "        name = '策略', # Style name/legend entry with html tags\n",
    "        connectgaps=True # override default to connect the gaps\n",
    "        )\n",
    "    )\n",
    "\n",
    "    fig.add_trace(go.Scatter(\n",
    "\n",
    "        x=df_return2[x_col2],\n",
    "        y=df_return2[y_col2],\n",
    "        name = '大盤', # Style name/legend entry with html tags\n",
    "        connectgaps=True # override default to connect the gaps\n",
    "        )\n",
    "    )\n",
    "\n",
    "    fig.update_layout(\n",
    "        title=title +\" \"+\"策略 vs 大盤\",\n",
    "        xaxis_title=\"Date\",\n",
    "        yaxis_title=yaxis_title,\n",
    "        legend_title=\"Legend Title\",\n",
    "        width=1100,\n",
    "        height=650,\n",
    "        font=dict(\n",
    "            family=\"Courier New, monospace\",\n",
    "            size=14,\n",
    "        )\n",
    "    )\n",
    "\n",
    "    fig.update_xaxes(\n",
    "        rangeslider_visible=True,\n",
    "        rangeselector=dict(\n",
    "            buttons=list([\n",
    "                dict(count=5, label=\"5D\", step=\"day\", stepmode=\"backward\"),\n",
    "                dict(count=20, label=\"20D\", step=\"day\", stepmode=\"backward\"),\n",
    "                dict(count=60, label=\"60D\", step=\"day\", stepmode=\"backward\"),\n",
    "                dict(label=\"All\",step=\"all\")\n",
    "            ])\n",
    "        )\n",
    "    )\n",
    "\n",
    "    return fig"
   ]
  },
  {
   "cell_type": "markdown",
   "metadata": {},
   "source": [
    "## 統計資訊"
   ]
  },
  {
   "cell_type": "code",
   "execution_count": 32,
   "metadata": {
    "ExecuteTime": {
     "end_time": "2020-08-25T07:49:50.309916Z",
     "start_time": "2020-08-25T07:49:50.300398Z"
    },
    "code_folding": [
     0
    ]
   },
   "outputs": [],
   "source": [
    "def stat_info(myDict,sharp_df, myDict_big,sharp_df_big, c_return1, c_return3, part_down1, part_down3, wins_time1, wins_time3):#, myDict2,sharp_df_big):\n",
    "    data = dbc.Alert(\n",
    "        [\n",
    "            html.H4(\"統計資訊\", className=\"alert-heading\"),\n",
    "            html.Div([\n",
    "                '60日累計報酬率：',round(cumulative_return(myDict)[-1]['c_return'], 4),\n",
    "            ]),\n",
    "            html.Div([\n",
    "                '夏普比率：',round(sharp_df['10_days_sharp_ratio'][len(sharp_df['10_days_sharp_ratio'])-1], 4)\n",
    "            ]),\n",
    "            html.Div([\n",
    "                '勝率：',round(wins_time(myDict), 4)*100,' %'\n",
    "            ]),\n",
    "            html.Div([\n",
    "                '最大區間虧損：',round(part_down(myDict), 4)\n",
    "            ]),\n",
    "            html.Div([\n",
    "                'beta係數：',round(beta(sharp_df,sharp_df_big), 6)\n",
    "            ]),\n",
    "            html.Hr(),\n",
    "            html.Span(\n",
    "                \n",
    "                #### Badges\n",
    "                badges(myDict, myDict_big, c_return1, c_return3, part_down1, part_down3, wins_time1, wins_time3)#, myDict2)\n",
    "\n",
    "            )\n",
    "        ], color=\"info\")\n",
    "    return data"
   ]
  },
  {
   "cell_type": "markdown",
   "metadata": {},
   "source": [
    "## Badges"
   ]
  },
  {
   "cell_type": "code",
   "execution_count": 33,
   "metadata": {
    "ExecuteTime": {
     "end_time": "2020-08-25T07:49:50.583908Z",
     "start_time": "2020-08-25T07:49:50.572242Z"
    },
    "code_folding": [
     1
    ]
   },
   "outputs": [],
   "source": [
    "# 四分位數計算\n",
    "def statistic(all_dict_list):\n",
    "    all_c_return_ = [] #獲利 #累計報酬\n",
    "    all_part_down_ = [] #風險 #區間虧損\n",
    "    all_wins_time_ = [] #表現 # 勝率\n",
    "    for i in all_dict_list:\n",
    "        all_c_return_.append(cumulative_return(i)[-1]['c_return'])\n",
    "        all_part_down_.append(part_down(i))\n",
    "        all_wins_time_.append(wins_time(i))\n",
    "    \n",
    "    # 計算第一、第三四分位數\n",
    "    c_return1 = np.percentile(all_c_return_, [25])[0]\n",
    "    c_return3 = np.percentile(all_c_return_, [75])[0]\n",
    "    part_down1 = np.percentile(all_part_down_, [25])[0]\n",
    "    part_down3 = np.percentile(all_part_down_, [75])[0]\n",
    "    wins_time1 = np.percentile(all_wins_time_, [25])[0]\n",
    "    wins_time3 = np.percentile(all_wins_time_, [75])[0]\n",
    "    \n",
    "    return c_return1, c_return3, part_down1, part_down3, wins_time1, wins_time3\n",
    "\n",
    "# 算法：https://www.shuxuele.com/data/quartiles.html"
   ]
  },
  {
   "cell_type": "code",
   "execution_count": 34,
   "metadata": {
    "ExecuteTime": {
     "end_time": "2020-08-25T07:49:50.732826Z",
     "start_time": "2020-08-25T07:49:50.713101Z"
    },
    "code_folding": [
     0
    ]
   },
   "outputs": [],
   "source": [
    "def badges(myDict, myDict_big, c_return1, c_return3, part_down1, part_down3, wins_time1, wins_time3):#, myDict2):\n",
    "    \n",
    "    # 存放回傳badges\n",
    "    badges = []\n",
    "    \n",
    "    # 累計報酬率比較 with 大盤\n",
    "    if cumulative_return(myDict)[-1]['c_return'] > cumulative_return(myDict_big)[-1]['c_return']:\n",
    "        badges.append(dbc.Badge(\"報酬較大盤高\", pill=True, color=\"success\", className=\"mr-1\"))\n",
    "    if cumulative_return(myDict)[-1]['c_return'] < cumulative_return(myDict_big)[-1]['c_return']:\n",
    "        badges.append(dbc.Badge(\"報酬較大盤低\", pill=True, color=\"danger\", className=\"mr-1\"))\n",
    "    \n",
    "    # 累計報酬率比較 with 其他策略\n",
    "    if cumulative_return(myDict)[-1]['c_return'] > c_return_3:\n",
    "        badges.append(dbc.Badge(\"報酬表現較其他策略佳\", pill=True, color=\"warning\", className=\"mr-1\"))\n",
    "    if cumulative_return(myDict)[-1]['c_return'] < c_return_1:\n",
    "        badges.append(dbc.Badge(\"報酬表現較其他策略差\", pill=True, color=\"primary\", className=\"mr-1\"))\n",
    "    \n",
    "    # 風險比較 with 大盤\n",
    "    if part_down(myDict) > part_down(myDict_big) :\n",
    "        badges.append(dbc.Badge(\"虧損風險較大盤高\", pill=True, color=\"danger\", className=\"mr-2\")) \n",
    "    if part_down(myDict) < part_down(myDict_big) :\n",
    "        badges.append(dbc.Badge(\"虧損風險較大盤低\", pill=True, color=\"success\", className=\"mr-2\"))  \n",
    "    \n",
    "    # 風險比較 with 其他策略\n",
    "    if part_down(myDict) > part_down_3 :\n",
    "        badges.append(dbc.Badge(\"虧損風險較其他策略高\", pill=True, color=\"primary\", className=\"mr-2\")) \n",
    "    if part_down(myDict) < part_down_1 :\n",
    "        badges.append(dbc.Badge(\"虧損風險較其他策略低\", pill=True, color=\"warning\", className=\"mr-2\"))  \n",
    "        \n",
    "    # 勝率比較（表現）with 大盤\n",
    "    if wins_time(myDict) > wins_time(myDict_big):\n",
    "        badges.append(dbc.Badge(\"表現較大盤好\", pill=True, color=\"success\", className=\"mr-3\"))\n",
    "    if wins_time(myDict) < wins_time(myDict_big):\n",
    "        badges.append(dbc.Badge(\"表現較大盤差\", pill=True, color=\"danger\", className=\"mr-3\"))\n",
    "    \n",
    "    # 勝率比較（表現）with 其他策略\n",
    "    if wins_time(myDict) > wins_time_3:\n",
    "        badges.append(dbc.Badge(\"表現較其他策略好\", pill=True, color=\"warning\", className=\"mr-3\"))\n",
    "    if wins_time(myDict) < wins_time_1:\n",
    "        badges.append(dbc.Badge(\"表現較其他策略差\", pill=True, color=\"primary\", className=\"mr-3\"))\n",
    "    \n",
    "    \n",
    "    return badges"
   ]
  },
  {
   "cell_type": "markdown",
   "metadata": {},
   "source": [
    "## table"
   ]
  },
  {
   "cell_type": "code",
   "execution_count": 35,
   "metadata": {
    "ExecuteTime": {
     "end_time": "2020-08-25T07:49:51.286781Z",
     "start_time": "2020-08-25T07:49:51.275257Z"
    },
    "code_folding": [
     3
    ]
   },
   "outputs": [],
   "source": [
    "from dash_table.Format import Format, Sign\n",
    "from dash_table import DataTable, FormatTemplate\n",
    "\n",
    "def table(table_id,mydf):\n",
    "    \n",
    "    last_day_info_table = html.Div([\n",
    "        dash_table.DataTable(\n",
    "            id=table_id,\n",
    "            columns=[\n",
    "                {\"name\": i, \"id\": i, \"deletable\": True, \"selectable\": True, \"hideable\":True} for i in mydf.columns\n",
    "            ],\n",
    "            style_header={\n",
    "            'backgroundColor': 'rgb(230, 230, 230)',\n",
    "            'fontWeight': 'bold'},\n",
    "            data = mydf.to_dict('records'),\n",
    "            css=[ ## 篩選器\n",
    "            {\"selector\": \".column-header--delete svg\", \"rule\": 'display: \"none\"'},\n",
    "            {\"selector\": \".column-header--delete::before\", \"rule\": 'content: \"X\"'}\n",
    "            ],\n",
    "            editable=True,\n",
    "            style_as_list_view=True,\n",
    "            filter_action=\"native\",\n",
    "            sort_action=\"native\",\n",
    "            sort_mode=\"multi\",\n",
    "            column_selectable=\"multi\",\n",
    "            row_selectable=\"multi\",\n",
    "            row_deletable=True,\n",
    "            selected_columns=[],\n",
    "            selected_rows=[],\n",
    "            page_action=\"native\",\n",
    "            page_current= 0,\n",
    "            page_size= 10,\n",
    "        ),\n",
    "    ],style = {'width':'98%'})  \n",
    "    \n",
    "    return last_day_info_table"
   ]
  },
  {
   "cell_type": "code",
   "execution_count": 36,
   "metadata": {
    "ExecuteTime": {
     "end_time": "2020-08-25T07:49:51.522067Z",
     "start_time": "2020-08-25T07:49:51.502127Z"
    },
    "code_folding": [
     2
    ]
   },
   "outputs": [],
   "source": [
    "### 所有該時間點的資訊建成df\n",
    "\n",
    "def last_day_table_info(dict_return):\n",
    "\n",
    "    name08 = []\n",
    "    num08 = []\n",
    "    open08 = []\n",
    "    close08 = []\n",
    "    change_rate_new08 = []\n",
    "    for i in range(len(dict_return[-1]['data'][0]['symbols'])):\n",
    "        name08.append(dict_return[-1]['data'][0]['symbols'][i]['name'])\n",
    "        num08.append(dict_return[-1]['data'][0]['symbols'][i]['id'])\n",
    "        open08.append(dict_return[-1]['data'][0]['symbols'][i]['open'])\n",
    "        close08.append(dict_return[-1]['data'][0]['symbols'][i]['close'])\n",
    "        change_rate_new08.append(round(dict_return[-1]['data'][0]['symbols'][i]['change_rate_new'],4))\n",
    "    df_last_day08 = pd.DataFrame({\n",
    "        '股票名稱':name08,\n",
    "    })\n",
    "    df08 = df_last_day08\n",
    "    history_total_08_continuous = stock_choose_info_continuous(dict_return)\n",
    "\n",
    "    day_list_08_continuous = []\n",
    "    price_list_08_continuous = []\n",
    "    count_list_08_continuous = []\n",
    "    c_return_list_continuous08 = []\n",
    "\n",
    "    for i in range(len(df_last_day08['股票名稱'])):\n",
    "        # 60天內最近一次入選日期\n",
    "        if 'first_choose_continue' in history_total_08_continuous[df_last_day08['股票名稱'][i]].keys():\n",
    "            day = history_total_08_continuous[df_last_day08['股票名稱'][i]]['first_choose_continue'][0]\n",
    "            last_day = history_total_08_continuous[df_last_day08['股票名稱'][i]]['first_choose_continue'][-1]\n",
    "            day = datetime.datetime.strftime(day, \"%Y-%m-%d\")\n",
    "            last_day = datetime.datetime.strftime(last_day, \"%Y-%m-%d\")\n",
    "        #str_day = datetime.datetime.strftime(day, \"%Y-%m-%d\")\n",
    "        price = history_total_08_continuous[df_last_day08['股票名稱'][i]][day]['open']\n",
    "        # 60天內總共入選次數\n",
    "        count = history_total_08_continuous[df_last_day08['股票名稱'][i]]['continue_time']\n",
    "        # 累計報酬 \n",
    "        c_return = history_total_08_continuous[df_last_day08['股票名稱'][i]][last_day]['continue_c_return']\n",
    "\n",
    "        day_list_08_continuous.append(day)\n",
    "        price_list_08_continuous.append(price)\n",
    "        count_list_08_continuous.append(count)\n",
    "        c_return_list_continuous08.append(round(c_return,4))\n",
    "\n",
    "    df_last_day08 = pd.DataFrame({\n",
    "        '股票名稱':name08,\n",
    "        '股票代號':num08,\n",
    "        '開盤價':open08,\n",
    "        '收盤價':close08,\n",
    "        '漲跌幅(%)':change_rate_new08,\n",
    "        '累計報酬': c_return_list_continuous08,\n",
    "        '最近入選日': day_list_08_continuous,\n",
    "        '入選價格':price_list_08_continuous,\n",
    "        '入選天數（連續）':count_list_08_continuous\n",
    "    })\n",
    "    df08 = df_last_day08\n",
    "\n",
    "    return df08, name08, num08, open08, close08, change_rate_new08, c_return_list_continuous08, day_list_08_continuous, price_list_08_continuous, count_list_08_continuous"
   ]
  },
  {
   "cell_type": "markdown",
   "metadata": {},
   "source": [
    "# Dash all"
   ]
  },
  {
   "cell_type": "code",
   "execution_count": 37,
   "metadata": {
    "ExecuteTime": {
     "end_time": "2020-08-25T07:50:19.737771Z",
     "start_time": "2020-08-25T07:49:57.761602Z"
    },
    "code_folding": [
     18,
     24,
     26,
     30,
     39,
     43,
     47,
     55,
     58,
     67,
     74,
     83,
     92,
     101,
     110,
     119,
     128,
     137,
     146,
     155,
     157,
     184,
     199,
     206,
     286,
     457,
     459
    ],
    "scrolled": true
   },
   "outputs": [
    {
     "name": "stdout",
     "output_type": "stream",
     "text": [
      "Dash is running on http://0.0.0.0:8050/\n",
      "\n",
      "Dash is running on http://0.0.0.0:8050/\n",
      "\n",
      "Dash is running on http://0.0.0.0:8050/\n",
      "\n",
      "Dash is running on http://0.0.0.0:8050/\n",
      "\n",
      " Warning: This is a development server. Do not use app.run_server\n",
      " Warning: This is a development server. Do not use app.run_server\n",
      " Warning: This is a development server. Do not use app.run_server\n",
      " Warning: This is a development server. Do not use app.run_server\n",
      " in production, use a production WSGI server like gunicorn instead.\n",
      "\n",
      " in production, use a production WSGI server like gunicorn instead.\n",
      "\n",
      " in production, use a production WSGI server like gunicorn instead.\n",
      "\n",
      " in production, use a production WSGI server like gunicorn instead.\n",
      "\n",
      " * Serving Flask app \"__main__\" (lazy loading)\n",
      " * Environment: production\n",
      "   WARNING: This is a development server. Do not use it in a production deployment.\n",
      "   Use a production WSGI server instead.\n",
      " * Debug mode: off\n"
     ]
    },
    {
     "name": "stderr",
     "output_type": "stream",
     "text": [
      " * Running on http://0.0.0.0:8050/ (Press CTRL+C to quit)\n",
      "127.0.0.1 - - [25/Aug/2020 15:49:59] \"\u001b[37mGET / HTTP/1.1\u001b[0m\" 200 -\n",
      "127.0.0.1 - - [25/Aug/2020 15:49:59] \"\u001b[37mGET /_dash-layout HTTP/1.1\u001b[0m\" 200 -\n",
      "127.0.0.1 - - [25/Aug/2020 15:49:59] \"\u001b[37mGET /_dash-dependencies HTTP/1.1\u001b[0m\" 200 -\n",
      "127.0.0.1 - - [25/Aug/2020 15:49:59] \"\u001b[37mPOST /_dash-update-component HTTP/1.1\u001b[0m\" 200 -\n",
      "127.0.0.1 - - [25/Aug/2020 15:49:59] \"\u001b[37mPOST /_dash-update-component HTTP/1.1\u001b[0m\" 200 -\n"
     ]
    }
   ],
   "source": [
    "import dash\n",
    "import pandas as pd\n",
    "import dash_table\n",
    "import dash_core_components as dcc   #引入dash核心元素\n",
    "import dash_html_components as html   #引入dash html元素\n",
    "import dash_bootstrap_components as dbc\n",
    "from dash.dependencies import Input, Output\n",
    "\n",
    "app = dash.Dash(external_stylesheets=[dbc.themes.BOOTSTRAP])# SKETCHY / MINTY / SUPERHERO / BOOTSTRAP\n",
    "\n",
    "all_pages_list = ['/FC0372/08','/FC0386/20','/FC0387/20','/FC0388/20','/FC0391/17','/FC0392/17','/FC0393/20']\n",
    "all_pages_list_2 = ['/FC0394/19','/FC0395/19']\n",
    "\n",
    "#### 計算badges判斷的四分位數\n",
    "all_dict_list = [dict_return_72_08,dict_return_86_20,dict_return_87_20,dict_return_88_20,dict_return_91_17,dict_return_92_17,dict_return_93_20,dict_return_94_19,dict_return_95_19]\n",
    "c_return_1, c_return_3, part_down_1, part_down_3, wins_time_1, wins_time_3 = statistic(all_dict_list)\n",
    "\n",
    "#### 策略標題\n",
    "title_today_today_strategy = html.H6(\n",
    "            children='策略：今天開盤買 今天收盤賣', #標題名稱\n",
    "            style={\n",
    "                'textAlign': 'center', #文字位置),\n",
    "            }\n",
    "          )\n",
    "title_today_tomorrow_strategy = html.H6(\n",
    "            children='策略：今天收盤買 明天收盤賣', #標題名稱\n",
    "            style={\n",
    "                'textAlign': 'center', #文字位置),\n",
    "            }\n",
    "          )\n",
    "title_tomorrow_tomorrow_strategy = html.H6(\n",
    "            children='策略：明天開盤買 明天收盤賣', #標題名稱\n",
    "            style={\n",
    "                'textAlign': 'center', #文字位置),\n",
    "            }\n",
    "          )\n",
    "\n",
    "\n",
    "#### 表格呈現\n",
    "@app.callback(\n",
    "    Output('datatable-interactivity2', 'style_data_conditional'),\n",
    "    [Input('datatable-interactivity2', 'selected_columns')]\n",
    ")\n",
    "@app.callback(\n",
    "    Output('datatable-interactivity', 'style_data_conditional'),\n",
    "    [Input('datatable-interactivity', 'selected_columns')]\n",
    ")\n",
    "def update_styles(selected_columns):\n",
    "    return [{\n",
    "        'if': { 'column_id': i },\n",
    "        'background_color': '#D2F3FF'\n",
    "    } for i in selected_columns]\n",
    "\n",
    "\n",
    "### tabs呈現\n",
    "tabs = html.Div(\n",
    "    [\n",
    "        dbc.Tabs(\n",
    "            [\n",
    "                dbc.Tab(label=\"策略回測\", tab_id=\"tab-1\",label_style={\"color\": \"#0099ff\"}),\n",
    "            ],\n",
    "            id=\"tabs\",\n",
    "            active_tab=\"tab-1\", # 預設tab-1是啟動的\n",
    "        ),\n",
    "        html.Div(id=\"content\"),\n",
    "    ]\n",
    ")\n",
    "@app.callback(Output(\"content\", \"children\"), \n",
    "              [\n",
    "                  Input(\"tabs\", \"active_tab\"),\n",
    "                  Input('url', 'pathname')\n",
    "              ]\n",
    "              )\n",
    "def switch_tab(at, pathname):\n",
    "    if pathname == '/FC0372/08':\n",
    "        dict_ = dict_return_72_08\n",
    "        dict_sharp = sharp_df_72_08\n",
    "        dict_big = dict_big_72_08\n",
    "        dict_big_sharp = sharp_big_df_72_08\n",
    "        title_strategy = title_tomorrow_tomorrow_strategy\n",
    "        df_return_ = df_return_72_08\n",
    "        df_big_ = df_big_72_08\n",
    "        time = '08時'\n",
    "    elif pathname == '/FC0386/20':\n",
    "        dict_ = dict_return_86_20\n",
    "        dict_sharp = sharp_df_86_20\n",
    "        dict_big = dict_big_86_20\n",
    "        dict_big_sharp = sharp_big_df_86_20\n",
    "        title_strategy = title_tomorrow_tomorrow_strategy\n",
    "        df_return_ = df_return_86_20\n",
    "        df_big_ = df_big_86_20\n",
    "        time = '20時'\n",
    "    elif pathname == '/FC0387/20':\n",
    "        dict_ = dict_return_87_20\n",
    "        dict_sharp = sharp_df_87_20\n",
    "        dict_big = dict_big_87_20\n",
    "        dict_big_sharp = sharp_big_df_87_20\n",
    "        title_strategy = title_tomorrow_tomorrow_strategy\n",
    "        df_return_ = df_return_87_20\n",
    "        df_big_ = df_big_87_20\n",
    "        time = '20時'\n",
    "    elif pathname == '/FC0388/20':\n",
    "        dict_ = dict_return_88_20\n",
    "        dict_sharp = sharp_df_88_20\n",
    "        dict_big = dict_big_88_20\n",
    "        dict_big_sharp = sharp_big_df_88_20\n",
    "        title_strategy = title_tomorrow_tomorrow_strategy\n",
    "        df_return_ = df_return_88_20\n",
    "        df_big_ = df_big_88_20\n",
    "        time = '20時'\n",
    "    elif pathname == '/FC0391/17':\n",
    "        dict_ = dict_return_91_17\n",
    "        dict_sharp = sharp_df_91_17\n",
    "        dict_big = dict_big_91_17\n",
    "        dict_big_sharp = sharp_big_df_91_17\n",
    "        title_strategy = title_tomorrow_tomorrow_strategy\n",
    "        df_return_ = df_return_91_17\n",
    "        df_big_ = df_big_91_17\n",
    "        time = '17時'\n",
    "    elif pathname == '/FC0392/17':\n",
    "        dict_ = dict_return_92_17\n",
    "        dict_sharp = sharp_df_92_17\n",
    "        dict_big = dict_big_92_17\n",
    "        dict_big_sharp = sharp_big_df_92_17\n",
    "        title_strategy = title_tomorrow_tomorrow_strategy\n",
    "        df_return_ = df_return_92_17\n",
    "        df_big_ = df_big_92_17\n",
    "        time = '17時'\n",
    "    elif pathname == '/FC0393/20':\n",
    "        dict_ = dict_return_93_20\n",
    "        dict_sharp = sharp_df_93_20\n",
    "        dict_big = dict_big_93_20\n",
    "        dict_big_sharp = sharp_big_df_93_20\n",
    "        title_strategy = title_tomorrow_tomorrow_strategy\n",
    "        df_return_ = df_return_93_20\n",
    "        df_big_ = df_big_93_20\n",
    "        time = '20時'\n",
    "    elif pathname == '/FC0394/19':\n",
    "        dict_ = dict_return_94_19\n",
    "        dict_sharp = sharp_df_94_19\n",
    "        dict_big = dict_big_94_19\n",
    "        dict_big_sharp = sharp_big_df_94_19\n",
    "        title_strategy = title_tomorrow_tomorrow_strategy\n",
    "        df_return_ = df_return_94_19\n",
    "        df_big_ = df_big_94_19\n",
    "        time = '19時（每週最後一筆）'\n",
    "    elif pathname == '/FC0395/19':\n",
    "        dict_ = dict_return_95_19\n",
    "        dict_sharp = sharp_df_95_19\n",
    "        dict_big = dict_big_95_19\n",
    "        dict_big_sharp = sharp_big_df_95_19\n",
    "        title_strategy = title_tomorrow_tomorrow_strategy\n",
    "        df_return_ = df_return_95_19\n",
    "        df_big_ = df_big_95_19\n",
    "        time = '19時 每週最後一筆'\n",
    "    else:\n",
    "        return html.P(\"This shouldn't ever be displayed...\")\n",
    "    return html.Div([   \n",
    "            html.H3( \n",
    "                children=pathname.split('/')[1]+\" \"+pathname.split('/')[2]+'時策略vs大盤累計報酬率', #標題名稱\n",
    "                style={\n",
    "                    'textAlign': 'center', #文字位置\n",
    "                }\n",
    "            ),\n",
    "            title_strategy,\n",
    "            dbc.Row(\n",
    "                [\n",
    "                    dbc.Col(stat_info(dict_,dict_sharp,dict_big,dict_big_sharp,c_return_1, c_return_3, part_down_1, part_down_3, wins_time_1, wins_time_3), width=3, align=\"center\"),\n",
    "                    dbc.Col(html.Div([\n",
    "                                dcc.Graph(id='graph-scatter2',figure=plot_return(df_return_,df_big_,time,'price_date','c_return','real_time','c_return','波動度'),\n",
    "                                    config={\n",
    "                                        'displayModeBar': False,\n",
    "                                        'scrollZoom': True\n",
    "                                    },\n",
    "                                ),\n",
    "                            ])\n",
    "                    )\n",
    "                ]\n",
    "            ),\n",
    "            ])\n",
    "\n",
    "\n",
    "\n",
    "#### dropdowns呈現\n",
    "dropdown = dbc.Row(\n",
    "                dbc.Col(\n",
    "                    dcc.Dropdown(\n",
    "                        id = 'select_columns',\n",
    "                        options = [\n",
    "                            {'label':'最近入選日', 'value':'最近入選日'},\n",
    "                            {'label':'入選價格', 'value':'入選價格'},\n",
    "                            {'label':'入選天數（連續）', 'value':'入選天數（連續）'}\n",
    "                        ],\n",
    "                        value = '最近入選日',\n",
    "                        className='ml-auto'\n",
    "                    ),\n",
    "                width = 3,\n",
    "                ),justify='end',\n",
    "            )\n",
    "@app.callback(\n",
    "    Output('test', 'children'),\n",
    "    [\n",
    "        Input('select_columns', 'value'),\n",
    "        Input('url', 'pathname')\n",
    "    ]\n",
    ")\n",
    "def ttt(select_columns,pathname):\n",
    "    \n",
    "    if select_columns == '最近入選日':\n",
    "        key = '最近入選日'\n",
    "    if select_columns == '入選價格':\n",
    "        key = '入選價格'\n",
    "    if select_columns == '入選天數（連續）':\n",
    "        key = '入選天數（連續）'\n",
    "        \n",
    "    if pathname == '/FC0372/08':\n",
    "        df_, name_, num_, open_, close_, change_rate_new_, c_return_list_continuous_, day_list_continuous, price_list_continuous, count_list_continuous = last_day_table_info(dict_return_72_08)\n",
    "        last_day_info_table72_08 = table('datatable-interactivity',df_)\n",
    "    elif pathname == '/FC0386/20':\n",
    "        df_, name_, num_, open_, close_, change_rate_new_, c_return_list_continuous_, day_list_continuous, price_list_continuous, count_list_continuous = last_day_table_info(dict_return_86_20)\n",
    "        last_day_info_table86_20 = table('datatable-interactivity',df_)\n",
    "    elif pathname == '/FC0387/20':\n",
    "        df_, name_, num_, open_, close_, change_rate_new_, c_return_list_continuous_, day_list_continuous, price_list_continuous, count_list_continuous = last_day_table_info(dict_return_87_20)\n",
    "        last_day_info_table87_20 = table('datatable-interactivity',df_)\n",
    "    elif pathname == '/FC0388/20':\n",
    "        df_, name_, num_, open_, close_, change_rate_new_, c_return_list_continuous_, day_list_continuous, price_list_continuous, count_list_continuous = last_day_table_info(dict_return_88_20)\n",
    "        last_day_info_table88_20 = table('datatable-interactivity',df_)\n",
    "    elif pathname == '/FC0391/17':\n",
    "        df_, name_, num_, open_, close_, change_rate_new_, c_return_list_continuous_, day_list_continuous, price_list_continuous, count_list_continuous = last_day_table_info(dict_return_91_17)\n",
    "        last_day_info_table91_17 = table('datatable-interactivity',df_)\n",
    "    elif pathname == '/FC0392/17':\n",
    "        df_, name_, num_, open_, close_, change_rate_new_, c_return_list_continuous_, day_list_continuous, price_list_continuous, count_list_continuous = last_day_table_info(dict_return_92_17)\n",
    "        last_day_info_table92_17 = table('datatable-interactivity',df_)\n",
    "    elif pathname == '/FC0393/20':\n",
    "        df_, name_, num_, open_, close_, change_rate_new_, c_return_list_continuous_, day_list_continuous, price_list_continuous, count_list_continuous = last_day_table_info(dict_return_93_20)\n",
    "        last_day_info_table93_20 = table('datatable-interactivity',df_)\n",
    "    elif pathname == '/FC0394/19':\n",
    "        df_, name_, num_, open_, close_, change_rate_new_, c_return_list_continuous_, day_list_continuous, price_list_continuous, count_list_continuous = last_day_table_info(dict_return_94_19)\n",
    "        last_day_info_table94_19 = table('datatable-interactivity',df_)\n",
    "    elif pathname == '/FC0395/19':\n",
    "        df_, name_, num_, open_, close_, change_rate_new_, c_return_list_continuous_, day_list_continuous, price_list_continuous, count_list_continuous = last_day_table_info(dict_return_95_19)\n",
    "        last_day_info_table95_19 = table('datatable-interactivity',df_)\n",
    "\n",
    "    final = pd.DataFrame(\n",
    "            {\n",
    "            '股票名稱':name_,\n",
    "            '股票代號':num_,\n",
    "            '開盤價':open_,\n",
    "            '收盤價':close_,\n",
    "            '漲跌幅(%)':change_rate_new_,\n",
    "            '累計報酬': c_return_list_continuous_,\n",
    "            select_columns: list(df_[key])\n",
    "        } \n",
    "    ) \n",
    "\n",
    "    return [\n",
    "        html.Div([\n",
    "            dash_table.DataTable(\n",
    "            columns=[{\"name\": i, \"id\": i} for i in final.columns] ,\n",
    "            style_header={\n",
    "            'backgroundColor': 'rgb(230, 230, 230)',\n",
    "            'fontWeight': 'bold',\n",
    "            },\n",
    "            style_cell = {\n",
    "            'height': '50px'\n",
    "            },\n",
    "            data=final.to_dict('records'),\n",
    "            style_table = {'width':'100%'},\n",
    "            editable=True,\n",
    "            style_as_list_view=True,\n",
    "            filter_action=\"native\",\n",
    "            sort_action=\"native\",\n",
    "            sort_mode=\"multi\",\n",
    "            column_selectable=\"single\",\n",
    "            row_selectable=\"multi\",\n",
    "            row_deletable=True,\n",
    "            #selected_columns=[],\n",
    "            #selected_rows=[],\n",
    "            page_action=\"native\",\n",
    "            page_current= 0,\n",
    "            page_size= 10,\n",
    "        ),\n",
    "    ],style = {'width':'98%'})\n",
    "    ]\n",
    "\n",
    "### 首頁全部卡片排列\n",
    "index_page = html.Div([\n",
    "    dbc.Row([\n",
    "        \n",
    "        dbc.Col(\n",
    "            dbc.Card(\n",
    "                [\n",
    "                    dbc.CardHeader(\"FC0372\"),\n",
    "                    dbc.CardBody(\n",
    "                        [\n",
    "                            html.H4(\"機器學習法人OD型態\", className=\"card-title\"),\n",
    "                            html.P(badges(dict_return_72_08, dict_big_72_08, c_return_1, c_return_3, part_down_1, part_down_3, wins_time_1, wins_time_3), className=\"card-text\"),\n",
    "                            dbc.Button(\"FC0372 22\", color=\"primary\", className=\"mr-1\",href='/FC0372/08'),\n",
    "                        ]\n",
    "                    ),\n",
    "                    dbc.CardFooter(\"週一～週五 22點更新（每日交易）\"),\n",
    "                ],\n",
    "                style={\"width\": \"23rem\", \"height\": \"18.5rem\"},\n",
    "                )\n",
    "            , width=4),\n",
    "        \n",
    "        dbc.Col(\n",
    "            dbc.Card(\n",
    "                [\n",
    "                    dbc.CardHeader(\"FC0386\"),\n",
    "                    dbc.CardBody(\n",
    "                        [\n",
    "                            html.H4(\"三多風向球\", className=\"card-title\"),\n",
    "                            html.P(badges(dict_return_86_20, dict_big_86_20, c_return_1, c_return_3, part_down_1, part_down_3, wins_time_1, wins_time_3), className=\"card-text\"),\n",
    "                            dbc.Button(\"FC0386 20\", color=\"primary\", className=\"mr-1\",href='/FC0386/20')\n",
    "                        ]\n",
    "                    ),\n",
    "                    dbc.CardFooter(\"每日20點更新（每日交易）\"),\n",
    "                ],\n",
    "                style={\"width\": \"23rem\", \"height\": \"18.5rem\"},\n",
    "                ),\n",
    "        width=4),\n",
    "        \n",
    "        dbc.Col(\n",
    "            dbc.Card(\n",
    "                [\n",
    "                    dbc.CardHeader(\"FC0387\"),\n",
    "                    dbc.CardBody(\n",
    "                        [\n",
    "                            html.H4(\"三多風向球\", className=\"card-title\"),\n",
    "                            html.P(badges(dict_return_87_20, dict_big_87_20, c_return_1, c_return_3, part_down_1, part_down_3, wins_time_1, wins_time_3), className=\"card-text\"),\n",
    "                            dbc.Button(\"FC0387 20\", color=\"primary\", className=\"mr-1\",href='/FC0387/20')\n",
    "                        ]\n",
    "                    ),\n",
    "                    dbc.CardFooter(\"每日20點更新（每週三交易）\"),\n",
    "                ],\n",
    "                style={\"width\": \"23rem\", \"height\": \"18.5rem\"},\n",
    "                ),\n",
    "        width=4),\n",
    "    ]),\n",
    "    \n",
    "    html.P(),\n",
    "    \n",
    "    dbc.Row([    \n",
    "        dbc.Col(\n",
    "            dbc.Card(\n",
    "                [\n",
    "                    dbc.CardHeader(\"FC0388\"),\n",
    "                    dbc.CardBody(\n",
    "                        [\n",
    "                            html.H4(\"三多風向球\", className=\"card-title\"),\n",
    "                            html.P(badges(dict_return_88_20, dict_big_88_20, c_return_1, c_return_3, part_down_1, part_down_3, wins_time_1, wins_time_3), className=\"card-text\"),\n",
    "                            dbc.Button(\"FC0388 20\", color=\"primary\", className=\"mr-1\",href='/FC0388/20')\n",
    "                        ]\n",
    "                    ),\n",
    "                    dbc.CardFooter(\"每日20點更新（每月交易）\"),\n",
    "                ],\n",
    "                style={\"width\": \"23rem\", \"height\": \"18.5rem\"},\n",
    "                ),\n",
    "        width=4),\n",
    "        \n",
    "        dbc.Col(\n",
    "            dbc.Card(\n",
    "                [\n",
    "                    dbc.CardHeader(\"FC0391\"),\n",
    "                    dbc.CardBody(\n",
    "                        [\n",
    "                            html.H4(\"券商分點買量集中選股\", className=\"card-title\"),\n",
    "                            html.P(badges(dict_return_91_17, dict_big_91_17, c_return_1, c_return_3, part_down_1, part_down_3, wins_time_1, wins_time_3), className=\"card-text\"),\n",
    "                            dbc.Button(\"FC0391 17\", color=\"primary\", className=\"mr-1\",href='/FC0391/17')\n",
    "                        ]\n",
    "                    ),\n",
    "                    dbc.CardFooter(\"每日17點更新（每日交易）\"),\n",
    "                ],\n",
    "                style={\"width\": \"23rem\", \"height\": \"18.5rem\"},\n",
    "                ),\n",
    "        width=4),\n",
    "        \n",
    "        dbc.Col(\n",
    "            dbc.Card(\n",
    "                [\n",
    "                    dbc.CardHeader(\"FC0392\"),\n",
    "                    dbc.CardBody(\n",
    "                        [\n",
    "                            html.H4(\"券商分點賣量集中選股\", className=\"card-title\"),\n",
    "                            html.P(badges(dict_return_92_17, dict_big_92_17, c_return_1, c_return_3, part_down_1, part_down_3, wins_time_1, wins_time_3), className=\"card-text\"),\n",
    "                            dbc.Button(\"FC0392 17\", color=\"primary\", className=\"mr-1\",href='/FC0392/17')\n",
    "                        ]\n",
    "                    ),\n",
    "                    dbc.CardFooter(\"每日17點更新（每日交易）\"),\n",
    "                ],\n",
    "                style={\"width\": \"23rem\", \"height\": \"18.5rem\"},\n",
    "                ),\n",
    "        width=4),\n",
    "    ]),\n",
    "    \n",
    "    html.P(),\n",
    "    \n",
    "    dbc.Row([    \n",
    "        dbc.Col(\n",
    "            dbc.Card(\n",
    "                [\n",
    "                    dbc.CardHeader(\"FC0393\"),\n",
    "                    dbc.CardBody(\n",
    "                        [\n",
    "                            html.H4(\"穩定⾼現⾦殖利率選股\", className=\"card-title\"),\n",
    "                            html.P(badges(dict_return_93_20, dict_big_93_20, c_return_1, c_return_3, part_down_1, part_down_3, wins_time_1, wins_time_3), className=\"card-text\"),\n",
    "                            dbc.Button(\"FC0393 20\", color=\"primary\", className=\"mr-1\",href='/FC0393/20')\n",
    "                        ]\n",
    "                    ),\n",
    "                    dbc.CardFooter(\"每日20點更新（每日交易）\"),\n",
    "                ],\n",
    "                style={\"width\": \"23rem\", \"height\": \"18.5rem\"},\n",
    "                ),\n",
    "        width=4),\n",
    "        \n",
    "        \n",
    "        dbc.Col(\n",
    "            dbc.Card(\n",
    "                [\n",
    "                    dbc.CardHeader(\"FC0394\"),\n",
    "                    dbc.CardBody(\n",
    "                        [\n",
    "                            html.H4(\"⼤⼾籌碼集中選股\", className=\"card-title\"),\n",
    "                            html.P(badges(dict_return_94_19, dict_big_94_19, c_return_1, c_return_3, part_down_1, part_down_3, wins_time_1, wins_time_3), className=\"card-text\"),\n",
    "                            dbc.Button(\"FC0394 周最後\", color=\"primary\", className=\"mr-1\",href='/FC0394/19')\n",
    "                        ]\n",
    "                    ),\n",
    "                    dbc.CardFooter(\"週一5:00～週六19:00 更新（每週一交易）\"),\n",
    "                ],\n",
    "                style={\"width\": \"23rem\", \"height\": \"18.5rem\"},\n",
    "                ),\n",
    "        width=4),\n",
    "        \n",
    "        dbc.Col(\n",
    "            dbc.Card(\n",
    "                [\n",
    "                    dbc.CardHeader(\"FC0395\"),\n",
    "                    dbc.CardBody(\n",
    "                        [\n",
    "                            html.H4(\"看⼤⼾⾛向選股\", className=\"card-title\"),\n",
    "                            html.P(badges(dict_return_95_19, dict_big_95_19, c_return_1, c_return_3, part_down_1, part_down_3, wins_time_1, wins_time_3), className=\"card-text\"),\n",
    "                            dbc.Button(\"FC0395 周最後\", color=\"primary\", className=\"mr-1\",href='/FC0395/19')\n",
    "                        ]\n",
    "                    ),\n",
    "                    dbc.CardFooter(\"週一5:00～週六19:00 更新（每週一交易）\"),\n",
    "                ],\n",
    "                style={\"width\": \"23rem\", \"height\": \"18.5rem\"},\n",
    "                ),\n",
    "        width=4),\n",
    "        \n",
    "    ])\n",
    "]),\n",
    "\n",
    "\n",
    "\n",
    "# Update the index\n",
    "@app.callback(dash.dependencies.Output('page-content', 'children'),\n",
    "              [dash.dependencies.Input('url', 'pathname')])\n",
    "def display_page(pathname):\n",
    "    if pathname in all_pages_list or pathname in all_pages_list_2 :\n",
    "        return html.Div([\n",
    "                tabs,\n",
    "                dropdown,\n",
    "                html.Div(\n",
    "                    id = 'test', #result\n",
    "                )\n",
    "               ])\n",
    "    else:\n",
    "        return index_page\n",
    "    \n",
    "    # You could also return a 404 \"URL not found\" page here\n",
    "\n",
    "\n",
    "app.layout = html.Div([\n",
    "    dcc.Location(id='url', refresh=False),\n",
    "    html.Div(id='page-content'),\n",
    "    html.Br(),\n",
    "    html.Div([\n",
    "      dcc.Link('回到首頁', href='/'),  \n",
    "    ],style={\n",
    "            'textAlign': 'left', #文字位置\n",
    "    }),\n",
    "])\n",
    "\n",
    "\n",
    "if __name__ == '__main__':\n",
    "    app.run_server(host='0.0.0.0', port=8050) ### "
   ]
  },
  {
   "cell_type": "raw",
   "metadata": {
    "ExecuteTime": {
     "end_time": "2020-08-24T05:34:06.331553Z",
     "start_time": "2020-08-24T05:34:06.306232Z"
    }
   },
   "source": []
  },
  {
   "cell_type": "code",
   "execution_count": null,
   "metadata": {},
   "outputs": [],
   "source": []
  }
 ],
 "metadata": {
  "kernelspec": {
   "display_name": "Python 3",
   "language": "python",
   "name": "python3"
  },
  "language_info": {
   "codemirror_mode": {
    "name": "ipython",
    "version": 3
   },
   "file_extension": ".py",
   "mimetype": "text/x-python",
   "name": "python",
   "nbconvert_exporter": "python",
   "pygments_lexer": "ipython3",
   "version": "3.7.4"
  },
  "toc": {
   "base_numbering": 1,
   "nav_menu": {},
   "number_sections": true,
   "sideBar": true,
   "skip_h1_title": false,
   "title_cell": "Table of Contents",
   "title_sidebar": "Contents",
   "toc_cell": false,
   "toc_position": {
    "height": "calc(100% - 180px)",
    "left": "10px",
    "top": "150px",
    "width": "279px"
   },
   "toc_section_display": true,
   "toc_window_display": true
  }
 },
 "nbformat": 4,
 "nbformat_minor": 2
}
